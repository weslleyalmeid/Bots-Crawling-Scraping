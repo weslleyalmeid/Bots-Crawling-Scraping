{
 "cells": [
  {
   "cell_type": "markdown",
   "metadata": {},
   "source": [
    "**Introdução ao banco sqlite3**"
   ]
  },
  {
   "cell_type": "markdown",
   "metadata": {},
   "source": [
    "### Criar e conectar ao banco de dados"
   ]
  },
  {
   "cell_type": "code",
   "execution_count": 1,
   "metadata": {},
   "outputs": [],
   "source": [
    "import sqlite3"
   ]
  },
  {
   "cell_type": "code",
   "execution_count": 84,
   "metadata": {},
   "outputs": [],
   "source": [
    "conn = sqlite3.connect('db.sqlite3')"
   ]
  },
  {
   "cell_type": "markdown",
   "metadata": {},
   "source": [
    "### Criar tabela no banco de dados"
   ]
  },
  {
   "cell_type": "code",
   "execution_count": 14,
   "metadata": {},
   "outputs": [],
   "source": [
    "create_table =  \"\"\"\n",
    "create table cars(id integer primary key, \n",
    "title text,\n",
    "price text,\n",
    "category text,\n",
    "kind text,\n",
    "engine text,\n",
    "direction text,\n",
    "plate text,\n",
    "model text,\n",
    "year text,\n",
    "fuel text,\n",
    "color text,\n",
    "brand text,\n",
    "km text,\n",
    "gearbox text,\n",
    "doors text)\n",
    "\n",
    "\"\"\".replace('\\n', '')"
   ]
  },
  {
   "cell_type": "code",
   "execution_count": 15,
   "metadata": {},
   "outputs": [
    {
     "data": {
      "text/plain": [
       "'create table cars(id integer primary key, title text,price text,category text,kind text,engine text,direction text,plate text,model text,year text,fuel text,color text,brand text,km text,gearbox text,doors text)'"
      ]
     },
     "execution_count": 15,
     "metadata": {},
     "output_type": "execute_result"
    }
   ],
   "source": [
    "create_table"
   ]
  },
  {
   "cell_type": "code",
   "execution_count": 16,
   "metadata": {},
   "outputs": [
    {
     "data": {
      "text/plain": [
       "<sqlite3.Cursor at 0x7f3428c395e0>"
      ]
     },
     "execution_count": 16,
     "metadata": {},
     "output_type": "execute_result"
    }
   ],
   "source": [
    "conn.execute(create_table)"
   ]
  },
  {
   "cell_type": "code",
   "execution_count": 17,
   "metadata": {},
   "outputs": [],
   "source": [
    "conn.commit()"
   ]
  },
  {
   "cell_type": "code",
   "execution_count": 18,
   "metadata": {},
   "outputs": [
    {
     "name": "stdout",
     "output_type": "stream",
     "text": [
      "db.sqlite3  sqlite3.ipynb\r\n"
     ]
    }
   ],
   "source": [
    "! ls"
   ]
  },
  {
   "cell_type": "markdown",
   "metadata": {},
   "source": [
    "### Inserir elemento ao banco de dados"
   ]
  },
  {
   "cell_type": "code",
   "execution_count": 19,
   "metadata": {},
   "outputs": [],
   "source": [
    "car = {\n",
    "        'title': 'TOYOTA COROLLA XEI 1.8/1.8 FLEX 16V AUT. 2009 - 743692740 | OLX',\n",
    "        'price': 'R$ 41.990', 'category': 'Carros, vans e utilitários',\n",
    "        'kind': 'Sedã', 'engine': '1.8',\n",
    "        'direction': 'Hidráulica',\n",
    "        'plate': '0', 'model': 'TOYOTA COROLLA XEI 1.8/1.8 FLEX 16V AUT.',\n",
    "        'year': '2009',\n",
    "        'fuel': 'Flex',\n",
    "        'color': 'Preto',\n",
    "        'brand': 'TOYOTA',\n",
    "        'km': '128000',\n",
    "        'gearbox': 'Automático',\n",
    "        'doors': '4 portas'\n",
    "    }"
   ]
  },
  {
   "cell_type": "code",
   "execution_count": 89,
   "metadata": {},
   "outputs": [
    {
     "data": {
      "text/plain": [
       "'title, price, category, kind, engine, direction, plate, model, year, fuel, color, brand, km, gearbox, doors'"
      ]
     },
     "execution_count": 89,
     "metadata": {},
     "output_type": "execute_result"
    }
   ],
   "source": [
    "tables = 'title, price, category, kind, engine, direction, plate, model, year, fuel, color, brand, km, gearbox, doors'\n",
    "tables"
   ]
  },
  {
   "cell_type": "code",
   "execution_count": 90,
   "metadata": {},
   "outputs": [
    {
     "data": {
      "text/plain": [
       "':title, :price, :category, :kind, :engine, :direction, :plate, :model, :year, :fuel, :color, :brand, :km, :gearbox, :doors'"
      ]
     },
     "execution_count": 90,
     "metadata": {},
     "output_type": "execute_result"
    }
   ],
   "source": [
    "values = ':title, :price, :category, :kind, :engine, :direction, :plate, :model, :year, :fuel, :color, :brand, :km, :gearbox, :doors'\n",
    "values"
   ]
  },
  {
   "cell_type": "code",
   "execution_count": 48,
   "metadata": {},
   "outputs": [],
   "source": [
    "insert = f'insert into cars({tables}) values ({values})'"
   ]
  },
  {
   "cell_type": "code",
   "execution_count": 50,
   "metadata": {},
   "outputs": [
    {
     "data": {
      "text/plain": [
       "<sqlite3.Cursor at 0x7f3428d4e960>"
      ]
     },
     "execution_count": 50,
     "metadata": {},
     "output_type": "execute_result"
    }
   ],
   "source": [
    "conn.execute(insert, car)"
   ]
  },
  {
   "cell_type": "code",
   "execution_count": 51,
   "metadata": {},
   "outputs": [],
   "source": [
    "conn.commit()"
   ]
  },
  {
   "cell_type": "markdown",
   "metadata": {},
   "source": [
    "### Select no bando de dados"
   ]
  },
  {
   "cell_type": "code",
   "execution_count": 85,
   "metadata": {},
   "outputs": [],
   "source": [
    "result = conn.execute('select * from cars')"
   ]
  },
  {
   "cell_type": "code",
   "execution_count": 86,
   "metadata": {},
   "outputs": [
    {
     "data": {
      "text/plain": [
       "[(1,\n",
       "  'TOYOTA COROLLA XEI 1.8/1.8 FLEX 16V AUT. 2009 - 743692740 | OLX',\n",
       "  'R$ 41.990',\n",
       "  'Carros, vans e utilitários',\n",
       "  'Sedã',\n",
       "  '1.8',\n",
       "  'Hidráulica',\n",
       "  '0',\n",
       "  'TOYOTA COROLLA XEI 1.8/1.8 FLEX 16V AUT.',\n",
       "  '2009',\n",
       "  'Flex',\n",
       "  'Preto',\n",
       "  'TOYOTA',\n",
       "  '128000',\n",
       "  'Automático',\n",
       "  '4 portas')]"
      ]
     },
     "execution_count": 86,
     "metadata": {},
     "output_type": "execute_result"
    }
   ],
   "source": [
    "list(result)"
   ]
  },
  {
   "cell_type": "code",
   "execution_count": 87,
   "metadata": {},
   "outputs": [],
   "source": [
    "conn.close()"
   ]
  }
 ],
 "metadata": {
  "kernelspec": {
   "display_name": "Python 3.8.2 64-bit ('3.8.2': pyenv)",
   "language": "python",
   "name": "python38264bit382pyenvbf0e62b98cc74a198709236af036e243"
  },
  "language_info": {
   "codemirror_mode": {
    "name": "ipython",
    "version": 3
   },
   "file_extension": ".py",
   "mimetype": "text/x-python",
   "name": "python",
   "nbconvert_exporter": "python",
   "pygments_lexer": "ipython3",
   "version": "3.8.2"
  },
  "toc": {
   "base_numbering": 1,
   "nav_menu": {},
   "number_sections": true,
   "sideBar": true,
   "skip_h1_title": false,
   "title_cell": "Table of Contents",
   "title_sidebar": "Contents",
   "toc_cell": false,
   "toc_position": {},
   "toc_section_display": true,
   "toc_window_display": false
  },
  "varInspector": {
   "cols": {
    "lenName": 16,
    "lenType": 16,
    "lenVar": 40
   },
   "kernels_config": {
    "python": {
     "delete_cmd_postfix": "",
     "delete_cmd_prefix": "del ",
     "library": "var_list.py",
     "varRefreshCmd": "print(var_dic_list())"
    },
    "r": {
     "delete_cmd_postfix": ") ",
     "delete_cmd_prefix": "rm(",
     "library": "var_list.r",
     "varRefreshCmd": "cat(var_dic_list()) "
    }
   },
   "types_to_exclude": [
    "module",
    "function",
    "builtin_function_or_method",
    "instance",
    "_Feature"
   ],
   "window_display": false
  }
 },
 "nbformat": 4,
 "nbformat_minor": 2
}
