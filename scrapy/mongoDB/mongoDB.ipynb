{
 "cells": [
  {
   "cell_type": "markdown",
   "metadata": {},
   "source": [
    "**Banco mongoDB**"
   ]
  },
  {
   "cell_type": "markdown",
   "metadata": {},
   "source": [
    "### Criar e conectar ao banco de dados"
   ]
  },
  {
   "cell_type": "code",
   "execution_count": 3,
   "metadata": {},
   "outputs": [],
   "source": [
    "import pymongo"
   ]
  },
  {
   "cell_type": "code",
   "execution_count": 4,
   "metadata": {},
   "outputs": [],
   "source": [
    "client = pymongo.MongoClient()"
   ]
  },
  {
   "cell_type": "code",
   "execution_count": 5,
   "metadata": {},
   "outputs": [],
   "source": [
    "db = client['olx']"
   ]
  },
  {
   "cell_type": "markdown",
   "metadata": {},
   "source": [
    "### Inserindo documento\n"
   ]
  },
  {
   "cell_type": "code",
   "execution_count": 7,
   "metadata": {},
   "outputs": [],
   "source": [
    "collection = db['cars']"
   ]
  },
  {
   "cell_type": "code",
   "execution_count": 8,
   "metadata": {},
   "outputs": [],
   "source": [
    "import datetime as dt"
   ]
  },
  {
   "cell_type": "code",
   "execution_count": 11,
   "metadata": {},
   "outputs": [],
   "source": [
    "car = {\n",
    "        'title': 'TOYOTA COROLLA XEI 1.8/1.8 FLEX 16V AUT. 2009 - 743692740 | OLX',\n",
    "        'price': 'R$ 41.990', 'category': 'Carros, vans e utilitários',\n",
    "        'kind': 'Sedã', 'engine': '1.8',\n",
    "        'direction': 'Hidráulica',\n",
    "        'plate': '0', 'model': 'TOYOTA COROLLA XEI 1.8/1.8 FLEX 16V AUT.',\n",
    "        'year': '2009',\n",
    "        'fuel': 'Flex',\n",
    "        'color': 'Preto',\n",
    "        'brand': 'TOYOTA',\n",
    "        'km': '128000',\n",
    "        'gearbox': 'Automático',\n",
    "        'doors': '4 portas',\n",
    "        'date': dt.datetime.now()\n",
    "        }"
   ]
  },
  {
   "cell_type": "code",
   "execution_count": 12,
   "metadata": {},
   "outputs": [
    {
     "data": {
      "text/plain": [
       "{'title': 'TOYOTA COROLLA XEI 1.8/1.8 FLEX 16V AUT. 2009 - 743692740 | OLX',\n",
       " 'price': 'R$ 41.990',\n",
       " 'category': 'Carros, vans e utilitários',\n",
       " 'kind': 'Sedã',\n",
       " 'engine': '1.8',\n",
       " 'direction': 'Hidráulica',\n",
       " 'plate': '0',\n",
       " 'model': 'TOYOTA COROLLA XEI 1.8/1.8 FLEX 16V AUT.',\n",
       " 'year': '2009',\n",
       " 'fuel': 'Flex',\n",
       " 'color': 'Preto',\n",
       " 'brand': 'TOYOTA',\n",
       " 'km': '128000',\n",
       " 'gearbox': 'Automático',\n",
       " 'doors': '4 portas',\n",
       " 'date': datetime.datetime(2020, 5, 16, 18, 22, 13, 883748)}"
      ]
     },
     "execution_count": 12,
     "metadata": {},
     "output_type": "execute_result"
    }
   ],
   "source": [
    "car"
   ]
  },
  {
   "cell_type": "code",
   "execution_count": 14,
   "metadata": {},
   "outputs": [
    {
     "data": {
      "text/plain": [
       "<pymongo.results.InsertOneResult at 0x7fdbce217a40>"
      ]
     },
     "execution_count": 14,
     "metadata": {},
     "output_type": "execute_result"
    }
   ],
   "source": [
    "collection.insert_one(car)"
   ]
  },
  {
   "cell_type": "markdown",
   "metadata": {},
   "source": [
    "### Buscas com find_one()\n"
   ]
  },
  {
   "cell_type": "code",
   "execution_count": 17,
   "metadata": {},
   "outputs": [],
   "source": [
    "result = collection.find_one({'plate': '0'})"
   ]
  },
  {
   "cell_type": "code",
   "execution_count": 18,
   "metadata": {},
   "outputs": [
    {
     "data": {
      "text/plain": [
       "{'_id': ObjectId('5ec05a6dea4304a8ff465b81'),\n",
       " 'title': 'TOYOTA COROLLA XEI 1.8/1.8 FLEX 16V AUT. 2009 - 743692740 | OLX',\n",
       " 'price': 'R$ 41.990',\n",
       " 'category': 'Carros, vans e utilitários',\n",
       " 'kind': 'Sedã',\n",
       " 'engine': '1.8',\n",
       " 'direction': 'Hidráulica',\n",
       " 'plate': '0',\n",
       " 'model': 'TOYOTA COROLLA XEI 1.8/1.8 FLEX 16V AUT.',\n",
       " 'year': '2009',\n",
       " 'fuel': 'Flex',\n",
       " 'color': 'Preto',\n",
       " 'brand': 'TOYOTA',\n",
       " 'km': '128000',\n",
       " 'gearbox': 'Automático',\n",
       " 'doors': '4 portas',\n",
       " 'date': datetime.datetime(2020, 5, 16, 18, 22, 13, 883000)}"
      ]
     },
     "execution_count": 18,
     "metadata": {},
     "output_type": "execute_result"
    }
   ],
   "source": [
    "result"
   ]
  }
 ],
 "metadata": {
  "kernelspec": {
   "display_name": "Python 3",
   "language": "python",
   "name": "python3"
  },
  "language_info": {
   "codemirror_mode": {
    "name": "ipython",
    "version": 3
   },
   "file_extension": ".py",
   "mimetype": "text/x-python",
   "name": "python",
   "nbconvert_exporter": "python",
   "pygments_lexer": "ipython3",
   "version": "3.8.2"
  },
  "toc": {
   "base_numbering": 1,
   "nav_menu": {},
   "number_sections": true,
   "sideBar": true,
   "skip_h1_title": false,
   "title_cell": "Table of Contents",
   "title_sidebar": "Contents",
   "toc_cell": false,
   "toc_position": {},
   "toc_section_display": true,
   "toc_window_display": false
  },
  "varInspector": {
   "cols": {
    "lenName": 16,
    "lenType": 16,
    "lenVar": 40
   },
   "kernels_config": {
    "python": {
     "delete_cmd_postfix": "",
     "delete_cmd_prefix": "del ",
     "library": "var_list.py",
     "varRefreshCmd": "print(var_dic_list())"
    },
    "r": {
     "delete_cmd_postfix": ") ",
     "delete_cmd_prefix": "rm(",
     "library": "var_list.r",
     "varRefreshCmd": "cat(var_dic_list()) "
    }
   },
   "types_to_exclude": [
    "module",
    "function",
    "builtin_function_or_method",
    "instance",
    "_Feature"
   ],
   "window_display": false
  }
 },
 "nbformat": 4,
 "nbformat_minor": 4
}
